{
 "cells": [
  {
   "cell_type": "code",
   "execution_count": null,
   "id": "c22549cc",
   "metadata": {},
   "outputs": [],
   "source": [
    "import webbrowser\n",
    "\n",
    "# list of URLs to open\n",
    "urls = [\n",
    "    'https://image-ppubs.uspto.gov/dirsearch-public/print/downloadPdf/6948241',\n",
    "    'https://image-ppubs.uspto.gov/dirsearch-public/print/downloadPdf/6994562',\n",
    "    'https://image-ppubs.uspto.gov/dirsearch-public/print/downloadPdf/6989976',\n",
    "    'https://image-ppubs.uspto.gov/dirsearch-public/print/downloadPdf/7100237',\n",
    "    'https://image-ppubs.uspto.gov/dirsearch-public/print/downloadPdf/7179128',\n",
    "    'https://image-ppubs.uspto.gov/dirsearch-public/print/downloadPdf/6896528',\n",
    "    'https://image-ppubs.uspto.gov/dirsearch-public/print/downloadPdf/7021139',\n",
    "    'https://image-ppubs.uspto.gov/dirsearch-public/print/downloadPdf/6840790',\n",
    "    'https://image-ppubs.uspto.gov/dirsearch-public/print/downloadPdf/6860767',\n",
    "    'https://image-ppubs.uspto.gov/dirsearch-public/print/downloadPdf/6922331'\n",
    "]\n",
    "\n",
    "# open each URL in a new tab\n",
    "chrome_path = 'C:/Program Files (x86)/Google/Chrome/Application/chrome.exe %s'\n",
    "\n",
    "# Open the first URL in a new window\n",
    "webbrowser.get(chrome_path).open_new(urls[0])\n",
    "\n",
    "# Open the remaining URLs in new tabs within the same window\n",
    "for url in urls[1:]:\n",
    "    webbrowser.get(chrome_path).open_new_tab(url)"
   ]
  }
 ],
 "metadata": {
  "kernelspec": {
   "display_name": "Python 3 (ipykernel)",
   "language": "python",
   "name": "python3"
  },
  "language_info": {
   "codemirror_mode": {
    "name": "ipython",
    "version": 3
   },
   "file_extension": ".py",
   "mimetype": "text/x-python",
   "name": "python",
   "nbconvert_exporter": "python",
   "pygments_lexer": "ipython3",
   "version": "3.10.9"
  }
 },
 "nbformat": 4,
 "nbformat_minor": 5
}
